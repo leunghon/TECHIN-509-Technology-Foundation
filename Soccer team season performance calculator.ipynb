{
 "cells": [
  {
   "cell_type": "markdown",
   "id": "a7e3373f",
   "metadata": {},
   "source": [
    "# Soccer Team Season Performance Calculator\n",
    "## Hi, are you interested in how your favourite soccer team is performing this season? I am here to help you!\n",
    "Follow the instructions and enter the **related information** of the team that you are interested in.\n"
   ]
  },
  {
   "cell_type": "code",
   "execution_count": null,
   "id": "44f67240",
   "metadata": {
    "scrolled": false
   },
   "outputs": [],
   "source": [
    "teamname = input('Please enter team name')\n",
    "print('The name of your team is ' + teamname)\n",
    "GamesWon = int(input('Please enter the the games that your team has won.'))\n",
    "GamesDrawn = int(input('Please enter the the games that your team has drawn.'))\n",
    "GamesLost = int(input('Please enter the the games that your team has lost.'))\n",
    "AveragePoints = (GamesWon * 3 + GamesDrawn * 1 + GamesLost * 0) / (GamesWon + GamesDrawn + GamesLost)\n",
    "winpercentage = GamesWon / (GamesWon + GamesDrawn + GamesLost) * 100\n",
    "losepercentage = GamesLost / (GamesWon + GamesDrawn + GamesLost) * 100\n",
    "print(teamname , ' has an average ' , AveragePoints , ' points per game.')\n",
    "print(teamname, ' has won', winpercentage, '%', ' of the games')\n",
    "print(teamname, ' has lost', losepercentage, '%', ' of the games')"
   ]
  }
 ],
 "metadata": {
  "kernelspec": {
   "display_name": "Python 3 (ipykernel)",
   "language": "python",
   "name": "python3"
  },
  "language_info": {
   "codemirror_mode": {
    "name": "ipython",
    "version": 3
   },
   "file_extension": ".py",
   "mimetype": "text/x-python",
   "name": "python",
   "nbconvert_exporter": "python",
   "pygments_lexer": "ipython3",
   "version": "3.9.12"
  }
 },
 "nbformat": 4,
 "nbformat_minor": 5
}
