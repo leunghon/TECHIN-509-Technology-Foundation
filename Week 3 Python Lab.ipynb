{
 "cells": [
  {
   "cell_type": "code",
   "execution_count": 18,
   "id": "9fc1b7b4",
   "metadata": {},
   "outputs": [],
   "source": [
    "def factorial(x):\n",
    "    assert x >= 1\n",
    "    if x == 1:\n",
    "        return 1\n",
    "    return x * factorial(x - 1)"
   ]
  },
  {
   "cell_type": "code",
   "execution_count": 19,
   "id": "b863b366",
   "metadata": {},
   "outputs": [],
   "source": [
    "def inc(x):\n",
    "    return x + 1\n",
    "def dec(x):\n",
    "    return x - 1\n",
    "def add(a, b):\n",
    "    if b == 0:\n",
    "        return a\n",
    "    elif a == 0:\n",
    "        return b\n",
    "    return add(inc(a), dec(b))"
   ]
  },
  {
   "cell_type": "code",
   "execution_count": 20,
   "id": "ee935c37",
   "metadata": {},
   "outputs": [],
   "source": [
    "def inc(x):\n",
    "    return x + 1\n",
    "def dec(x):\n",
    "    return x - 1\n",
    "def add(a, b):\n",
    "    if b == 0:\n",
    "        return a\n",
    "    elif a == 0:\n",
    "        return b\n",
    "    elif a < 0 and b < 0:\n",
    "        return add(dec(a), inc(b))\n",
    "    elif a < 0:\n",
    "        return add(inc(a), dec(b))\n",
    "    elif b < 0:\n",
    "        return add(dec(a), inc(b))\n",
    "    return add(inc(a), dec(b))"
   ]
  },
  {
   "cell_type": "code",
   "execution_count": 14,
   "id": "43b16c3a",
   "metadata": {},
   "outputs": [],
   "source": [
    "def is_leap_year(x):\n",
    "    if x % 4 == 0 and x % 100 != 0:\n",
    "        return True\n",
    "    elif x % 400 == 0:\n",
    "        return True\n",
    "    else:\n",
    "        return False"
   ]
  },
  {
   "cell_type": "code",
   "execution_count": 15,
   "id": "753b5ea0",
   "metadata": {},
   "outputs": [],
   "source": [
    "def fibonacci_number(x):\n",
    "    if x <= 0:\n",
    "        return 0\n",
    "    elif x == 1:\n",
    "        return 1\n",
    "    return fibonacci_number(x - 1) + fibonacci_number(x - 2)"
   ]
  }
 ],
 "metadata": {
  "kernelspec": {
   "display_name": "Python 3 (ipykernel)",
   "language": "python",
   "name": "python3"
  },
  "language_info": {
   "codemirror_mode": {
    "name": "ipython",
    "version": 3
   },
   "file_extension": ".py",
   "mimetype": "text/x-python",
   "name": "python",
   "nbconvert_exporter": "python",
   "pygments_lexer": "ipython3",
   "version": "3.9.12"
  }
 },
 "nbformat": 4,
 "nbformat_minor": 5
}
