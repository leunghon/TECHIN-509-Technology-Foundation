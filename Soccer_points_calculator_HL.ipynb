{
 "cells": [
  {
   "cell_type": "markdown",
   "id": "a7e3373f",
   "metadata": {},
   "source": [
    "Average point each game:\n",
    "x is games won,\n",
    "y is games drawn,\n",
    "z is games lost"
   ]
  },
  {
   "cell_type": "code",
   "execution_count": 3,
   "id": "c606b958",
   "metadata": {},
   "outputs": [
    {
     "data": {
      "text/plain": [
       "1.4285714285714286"
      ]
     },
     "execution_count": 3,
     "metadata": {},
     "output_type": "execute_result"
    }
   ],
   "source": [
    "GamesWon = 10\n",
    "GamesDrawn = 20\n",
    "GamesLost = 5\n",
    "(x * 3 + y * 1 + z * 0) / (x + y + z)"
   ]
  }
 ],
 "metadata": {
  "kernelspec": {
   "display_name": "Python 3 (ipykernel)",
   "language": "python",
   "name": "python3"
  },
  "language_info": {
   "codemirror_mode": {
    "name": "ipython",
    "version": 3
   },
   "file_extension": ".py",
   "mimetype": "text/x-python",
   "name": "python",
   "nbconvert_exporter": "python",
   "pygments_lexer": "ipython3",
   "version": "3.9.12"
  }
 },
 "nbformat": 4,
 "nbformat_minor": 5
}
