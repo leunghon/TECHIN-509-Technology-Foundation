{
 "cells": [
  {
   "cell_type": "code",
   "execution_count": 9,
   "metadata": {},
   "outputs": [
    {
     "ename": "TypeError",
     "evalue": "'str' object does not support item assignment",
     "output_type": "error",
     "traceback": [
      "\u001b[0;31m---------------------------------------------------------------------------\u001b[0m",
      "\u001b[0;31mTypeError\u001b[0m                                 Traceback (most recent call last)",
      "\u001b[1;32m/Users/leunghon/Documents/Leung Hon/GIX/TECHIN 509 Technology Foundation/floodfill.ipynb Cell 1\u001b[0m in \u001b[0;36m<cell line: 36>\u001b[0;34m()\u001b[0m\n\u001b[1;32m     <a href='vscode-notebook-cell:/Users/leunghon/Documents/Leung%20Hon/GIX/TECHIN%20509%20Technology%20Foundation/floodfill.ipynb#W0sZmlsZQ%3D%3D?line=33'>34</a>\u001b[0m         flood_fill(input_board, old, new, x, y \u001b[39m+\u001b[39m \u001b[39m1\u001b[39m)\n\u001b[1;32m     <a href='vscode-notebook-cell:/Users/leunghon/Documents/Leung%20Hon/GIX/TECHIN%20509%20Technology%20Foundation/floodfill.ipynb#W0sZmlsZQ%3D%3D?line=34'>35</a>\u001b[0m         flood_fill(input_board, old, new, x, y \u001b[39m-\u001b[39m \u001b[39m1\u001b[39m)\n\u001b[0;32m---> <a href='vscode-notebook-cell:/Users/leunghon/Documents/Leung%20Hon/GIX/TECHIN%20509%20Technology%20Foundation/floodfill.ipynb#W0sZmlsZQ%3D%3D?line=35'>36</a>\u001b[0m modified_board \u001b[39m=\u001b[39m flood_fill(board, \u001b[39m\"\u001b[39;49m\u001b[39m.\u001b[39;49m\u001b[39m\"\u001b[39;49m, \u001b[39m\"\u001b[39;49m\u001b[39m~\u001b[39;49m\u001b[39m\"\u001b[39;49m, \u001b[39m5\u001b[39;49m, \u001b[39m12\u001b[39;49m)\n\u001b[1;32m     <a href='vscode-notebook-cell:/Users/leunghon/Documents/Leung%20Hon/GIX/TECHIN%20509%20Technology%20Foundation/floodfill.ipynb#W0sZmlsZQ%3D%3D?line=37'>38</a>\u001b[0m \u001b[39mfor\u001b[39;00m a \u001b[39min\u001b[39;00m modified_board:\n\u001b[1;32m     <a href='vscode-notebook-cell:/Users/leunghon/Documents/Leung%20Hon/GIX/TECHIN%20509%20Technology%20Foundation/floodfill.ipynb#W0sZmlsZQ%3D%3D?line=38'>39</a>\u001b[0m     \u001b[39mprint\u001b[39m(a)\n",
      "\u001b[1;32m/Users/leunghon/Documents/Leung Hon/GIX/TECHIN 509 Technology Foundation/floodfill.ipynb Cell 1\u001b[0m in \u001b[0;36mflood_fill\u001b[0;34m(input_board, old, new, x, y)\u001b[0m\n\u001b[1;32m     <a href='vscode-notebook-cell:/Users/leunghon/Documents/Leung%20Hon/GIX/TECHIN%20509%20Technology%20Foundation/floodfill.ipynb#W0sZmlsZQ%3D%3D?line=27'>28</a>\u001b[0m     \u001b[39mreturn\u001b[39;00m\n\u001b[1;32m     <a href='vscode-notebook-cell:/Users/leunghon/Documents/Leung%20Hon/GIX/TECHIN%20509%20Technology%20Foundation/floodfill.ipynb#W0sZmlsZQ%3D%3D?line=28'>29</a>\u001b[0m \u001b[39melse\u001b[39;00m:\n\u001b[0;32m---> <a href='vscode-notebook-cell:/Users/leunghon/Documents/Leung%20Hon/GIX/TECHIN%20509%20Technology%20Foundation/floodfill.ipynb#W0sZmlsZQ%3D%3D?line=29'>30</a>\u001b[0m     input_board[x][y] \u001b[39m=\u001b[39m new\n\u001b[1;32m     <a href='vscode-notebook-cell:/Users/leunghon/Documents/Leung%20Hon/GIX/TECHIN%20509%20Technology%20Foundation/floodfill.ipynb#W0sZmlsZQ%3D%3D?line=30'>31</a>\u001b[0m     flood_fill(input_board, old, new, x, y)\n\u001b[1;32m     <a href='vscode-notebook-cell:/Users/leunghon/Documents/Leung%20Hon/GIX/TECHIN%20509%20Technology%20Foundation/floodfill.ipynb#W0sZmlsZQ%3D%3D?line=31'>32</a>\u001b[0m     flood_fill(input_board, old, new, x \u001b[39m+\u001b[39m \u001b[39m1\u001b[39m, y)\n",
      "\u001b[0;31mTypeError\u001b[0m: 'str' object does not support item assignment"
     ]
    }
   ],
   "source": [
    "from typing import List\n",
    "\n",
    "board = [\n",
    "    \"......................\",\n",
    "    \"......##########......\",\n",
    "    \"......#........#......\",\n",
    "    \"......#........#......\",\n",
    "    \"......#........#####..\",\n",
    "    \"....###............#..\",\n",
    "    \"....#............###..\",\n",
    "    \"....##############....\",\n",
    "]\n",
    "\n",
    "\n",
    "def flood_fill(input_board: List[str], old: str, new: str, x: int, y: int) -> List[str]:\n",
    "    \"\"\"Returns board with old values replaced with new values\n",
    "    through flood filling starting from the coordinates x, y\n",
    "    Args:\n",
    "        input_board (List[str])\n",
    "        old (str): Value to be replaced\n",
    "        new (str): Value that replaces the old\n",
    "        x (int): X-coordinate of the flood start point\n",
    "        y (int): Y-coordinate of the flood start point\n",
    "    Returns:\n",
    "        List[str]: Modified board\n",
    "    \"\"\"\n",
    "    if x < 0 or y < 0 or x >=  len(input_board) or y >= len(input_board[0]) or input_board[x][y] != old:\n",
    "        return\n",
    "    else:\n",
    "        input_board[x][y] = new\n",
    "        flood_fill(input_board, old, new, x, y)\n",
    "        flood_fill(input_board, old, new, x + 1, y)\n",
    "        flood_fill(input_board, old, new, x - 1, y)\n",
    "        flood_fill(input_board, old, new, x, y + 1)\n",
    "        flood_fill(input_board, old, new, x, y - 1)\n",
    "modified_board = flood_fill(board, \".\", \"~\", 5, 12)\n",
    "\n",
    "for a in modified_board:\n",
    "    print(a)\n"
   ]
  }
 ],
 "metadata": {
  "kernelspec": {
   "display_name": "base",
   "language": "python",
   "name": "python3"
  },
  "language_info": {
   "codemirror_mode": {
    "name": "ipython",
    "version": 3
   },
   "file_extension": ".py",
   "mimetype": "text/x-python",
   "name": "python",
   "nbconvert_exporter": "python",
   "pygments_lexer": "ipython3",
   "version": "3.9.12"
  },
  "orig_nbformat": 4,
  "vscode": {
   "interpreter": {
    "hash": "e1b370eb5857972060bd11c1e709784e00a1af808e7ed14404be43612b260c2e"
   }
  }
 },
 "nbformat": 4,
 "nbformat_minor": 2
}
