{
 "cells": [
  {
   "cell_type": "code",
   "execution_count": 59,
   "metadata": {},
   "outputs": [
    {
     "name": "stdout",
     "output_type": "stream",
     "text": [
      "......................\n",
      "......##########......\n",
      "......#~~~~~~~~#......\n",
      "......#~~~~~~~~#......\n",
      "......#~~~~~~~~#####..\n",
      "....###~~~~~~~~~~~~#..\n",
      "....#~~~~~~~~~~~~###..\n",
      "....##############....\n"
     ]
    }
   ],
   "source": [
    "from typing import List\n",
    "\n",
    "board = [\n",
    "    \"......................\",\n",
    "    \"......##########......\",\n",
    "    \"......#........#......\",\n",
    "    \"......#........#......\",\n",
    "    \"......#........#####..\",\n",
    "    \"....###............#..\",\n",
    "    \"....#............###..\",\n",
    "    \"....##############....\",\n",
    "]\n",
    "\n",
    "def flood_fill(input_board: List[str], old: str, new: str, x: int, y: int) -> List[str]:\n",
    "    \"\"\"Returns board with old values replaced with new values\n",
    "    through flood filling starting from the coordinates x, y\n",
    "    Args:\n",
    "        input_board (List[str])\n",
    "        old (str): Value to be replaced\n",
    "        new (str): Value that replaces the old\n",
    "        x (int): X-coordinate of the flood start point\n",
    "        y (int): Y-coordinate of the flood start point\n",
    "    Returns:\n",
    "        List[str]: Modified board\n",
    "    \"\"\"\n",
    "    if x < 0 or y < 0 or x >=  len(input_board) or y >= len(input_board[0]) or input_board[x][y] == new:\n",
    "        return \n",
    "    elif input_board[x][y] != old and input_board[x][y] != new:\n",
    "        return\n",
    "    a = list(input_board[x])\n",
    "    a[y] = new\n",
    "    a = \"\".join(a)\n",
    "    input_board[x] = a\n",
    "    \n",
    "    \n",
    "    flood_fill(input_board, old, new, x, y)\n",
    "    flood_fill(input_board, old, new, x + 1, y)\n",
    "    flood_fill(input_board, old, new, x - 1, y)\n",
    "    flood_fill(input_board, old, new, x, y + 1)\n",
    "    flood_fill(input_board, old, new, x, y - 1)\n",
    "    return input_board\n",
    "modified_board = flood_fill(input_board=board, old=\".\", new=\"~\", x=5, y=12)\n",
    "\n",
    "for a in modified_board:\n",
    "    print(a)\n"
   ]
  }
 ],
 "metadata": {
  "kernelspec": {
   "display_name": "base",
   "language": "python",
   "name": "python3"
  },
  "language_info": {
   "codemirror_mode": {
    "name": "ipython",
    "version": 3
   },
   "file_extension": ".py",
   "mimetype": "text/x-python",
   "name": "python",
   "nbconvert_exporter": "python",
   "pygments_lexer": "ipython3",
   "version": "3.9.12 (main, Apr  5 2022, 01:53:17) \n[Clang 12.0.0 ]"
  },
  "orig_nbformat": 4,
  "vscode": {
   "interpreter": {
    "hash": "e1b370eb5857972060bd11c1e709784e00a1af808e7ed14404be43612b260c2e"
   }
  }
 },
 "nbformat": 4,
 "nbformat_minor": 2
}
